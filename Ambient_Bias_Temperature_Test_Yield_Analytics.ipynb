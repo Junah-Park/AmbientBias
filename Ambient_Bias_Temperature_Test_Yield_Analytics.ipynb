{
 "cells": [
  {
   "cell_type": "code",
   "execution_count": 153,
   "id": "fa802f74",
   "metadata": {},
   "outputs": [],
   "source": [
    "import pandas as pd\n",
    "import numpy as np\n",
    "import matplotlib.pyplot as plt\n",
    "import glob\n",
    "import csv\n",
    "import os\n",
    "\n",
    "# GLOBAL PATH VARIABLE\n",
    "_path = r'\\\\emcore.us\\dfs\\CACON\\ATE_Data\\SDG500-00100-100' "
   ]
  },
  {
   "cell_type": "markdown",
   "id": "61d32c64",
   "metadata": {},
   "source": [
    "Begin with working on a single sample to prove work"
   ]
  },
  {
   "cell_type": "code",
   "execution_count": 154,
   "id": "8eca3e60",
   "metadata": {},
   "outputs": [],
   "source": [
    "\n",
    "file_name = glob.glob(_path + \"/J8160-100_ZROTC_SDG500_20210617_215554.csv\")\n",
    "df = pd.read_csv(file_name[0], header=12, usecols=['Time','RateV_Y','TempV_Y'],\n",
    " float_precision='high')"
   ]
  },
  {
   "cell_type": "code",
   "execution_count": 155,
   "id": "6151131e",
   "metadata": {},
   "outputs": [],
   "source": [
    "# Define parameters\n",
    "Tmax = 85\n",
    "Tmin = -40\n",
    "\n",
    "# Time starts from 0\n",
    "df['Time'] = df['Time'] - df['Time'][0]\n",
    "\n",
    "# Temps in V, max and min temps\n",
    "tempsV = df['TempV_Y']\n",
    "max_tempV = tempsV.max()\n",
    "min_tempV = tempsV.min()\n",
    "\n",
    "#Calculate temperature in Celsius\n",
    "tmp_sf = (Tmax - Tmin) / (max_tempV - min_tempV)\n",
    "tmp_bias = Tmax - (tmp_sf * max_tempV)\n",
    "tempsC = tmp_bias + tmp_sf * tempsV\n",
    "df['TempC'] = tempsC"
   ]
  },
  {
   "cell_type": "code",
   "execution_count": 156,
   "id": "2546fda0",
   "metadata": {},
   "outputs": [],
   "source": [
    "# Remove measurements outside middle range 15-40 degrees C\n",
    "\n",
    "n = len(df)\n",
    "index_names = df[(df['TempC'] < 15) | (df['TempC'] > 40)].index\n",
    "df.drop(index_names, inplace=True)"
   ]
  },
  {
   "cell_type": "code",
   "execution_count": 157,
   "id": "f7b8de07",
   "metadata": {},
   "outputs": [],
   "source": [
    "# Drop all values before and after the middle range 15-40C temperature values\n",
    "# before going from cold to hot\n",
    "df.drop(range(index_names[-1]+1, n), inplace=True)\n",
    "df.drop(range(index_names[0]), inplace=True)\n",
    "df= df.reset_index(drop=True)"
   ]
  },
  {
   "cell_type": "code",
   "execution_count": 158,
   "id": "643339ee",
   "metadata": {},
   "outputs": [
    {
     "name": "stdout",
     "output_type": "stream",
     "text": [
      "32\n"
     ]
    }
   ],
   "source": [
    "# Find ambient point\n",
    "# Select first measurement that is between 20-25 degrees C\n",
    "\n",
    "amb_pt = None\n",
    "for index in range(len(df['TempC'])):\n",
    "    if 22.51 >= df['TempC'][index] and df['TempC'][index] >= 20:\n",
    "        amb_pt = index\n",
    "        break\n",
    "if not amb_pt:\n",
    "    print(\"Error: Ambient Point not found\")\n",
    "print(amb_pt)"
   ]
  },
  {
   "cell_type": "code",
   "execution_count": 159,
   "id": "113f921e",
   "metadata": {
    "scrolled": true
   },
   "outputs": [
    {
     "name": "stdout",
     "output_type": "stream",
     "text": [
      "6.60847\n"
     ]
    }
   ],
   "source": [
    "# Ambient Bias\n",
    "\n",
    "amb_bias = df['RateV_Y'][amb_pt]\n",
    "\n",
    "print(amb_bias * 1000)"
   ]
  },
  {
   "cell_type": "code",
   "execution_count": 160,
   "id": "c53c5e75",
   "metadata": {},
   "outputs": [
    {
     "name": "stdout",
     "output_type": "stream",
     "text": [
      "1.2098230000000005\n"
     ]
    }
   ],
   "source": [
    "# Max and min deviation\n",
    "\n",
    "max_rate = df['RateV_Y'].max()\n",
    "min_rate = df['RateV_Y'].min()\n",
    "\n",
    "max_dev = max_rate - amb_bias\n",
    "min_dev = min_rate - amb_bias\n",
    "\n",
    "# V -> mV\n",
    "max_dev = max_dev * 1000\n",
    "min_dev = min_dev * 1000\n",
    "amb_bias = amb_bias * 1000\n",
    "\n",
    "print(max_dev)"
   ]
  },
  {
   "cell_type": "code",
   "execution_count": 161,
   "id": "d254b331",
   "metadata": {},
   "outputs": [
    {
     "name": "stdout",
     "output_type": "stream",
     "text": [
      "-0.38583500000000015\n"
     ]
    }
   ],
   "source": [
    "print(min_dev)"
   ]
  },
  {
   "cell_type": "code",
   "execution_count": 162,
   "id": "7deb88f8",
   "metadata": {},
   "outputs": [],
   "source": [
    "pk_pk = max_rate - min_rate\n",
    "# V -> mV\n",
    "pk_pk = pk_pk * 1000"
   ]
  },
  {
   "cell_type": "code",
   "execution_count": 163,
   "id": "f8153688",
   "metadata": {
    "scrolled": true
   },
   "outputs": [],
   "source": [
    "# Find the coefficients for the line of best fit\n",
    "m, b = np.polyfit(df['TempC'], df['RateV_Y'], 1)\n",
    "\n",
    "# Find deviations from the line of best fit\n",
    "df['Deviation'] = df['RateV_Y']-(m*df['TempC'] + b)"
   ]
  },
  {
   "cell_type": "code",
   "execution_count": 164,
   "id": "a274c6c0",
   "metadata": {},
   "outputs": [
    {
     "data": {
      "text/plain": [
       "<AxesSubplot:xlabel='TempC'>"
      ]
     },
     "execution_count": 164,
     "metadata": {},
     "output_type": "execute_result"
    },
    {
     "data": {
      "image/png": "[encoded data removed]",
      "text/plain": [
       "<Figure size 432x288 with 1 Axes>"
      ]
     },
     "metadata": {
      "needs_background": "light"
     },
     "output_type": "display_data"
    }
   ],
   "source": [
    "df.plot(x='TempC', y='RateV_Y')"
   ]
  },
  {
   "cell_type": "code",
   "execution_count": 165,
   "id": "6d189b06",
   "metadata": {},
   "outputs": [
    {
     "data": {
      "text/plain": [
       "<AxesSubplot:xlabel='TempC'>"
      ]
     },
     "execution_count": 165,
     "metadata": {},
     "output_type": "execute_result"
    },
    {
     "data": {
      "image/png": "[encoded data removed]",
      "text/plain": [
       "<Figure size 432x288 with 1 Axes>"
      ]
     },
     "metadata": {
      "needs_background": "light"
     },
     "output_type": "display_data"
    }
   ],
   "source": [
    "df.plot(x='TempC', y='Deviation')"
   ]
  },
  {
   "cell_type": "code",
   "execution_count": 166,
   "id": "5d12314e",
   "metadata": {},
   "outputs": [
    {
     "name": "stdout",
     "output_type": "stream",
     "text": [
      "0.12978400466747386\n"
     ]
    }
   ],
   "source": [
    "# Max and min deviations from BFSL represent residual deviations after calibration\n",
    "cal_max_dev = df['Deviation'].max()\n",
    "cal_min_dev = df['Deviation'].min()\n",
    "\n",
    "print(cal_max_dev * 1000)"
   ]
  },
  {
   "cell_type": "code",
   "execution_count": 167,
   "id": "38cf3deb",
   "metadata": {},
   "outputs": [
    {
     "name": "stdout",
     "output_type": "stream",
     "text": [
      "-0.18519537741868397\n"
     ]
    }
   ],
   "source": [
    "print(cal_min_dev * 1000)"
   ]
  },
  {
   "cell_type": "markdown",
   "id": "9c077564",
   "metadata": {},
   "source": [
    "Pack it all together in a function, called for each file"
   ]
  },
  {
   "cell_type": "code",
   "execution_count": 168,
   "id": "5220fd94",
   "metadata": {},
   "outputs": [],
   "source": [
    "# Create a function that performs analytics with the file name and returns list of values\n",
    "def analytics(file_name):    \n",
    "    # Find UnitSN and Test Date for the unit\n",
    "    with open(file_name) as csvfile:\n",
    "        csvReader = csv.reader(csvfile, delimiter=',')\n",
    "        for row in csvReader:\n",
    "            if row[0] == 'UnitSN':\n",
    "                tag_id = row[1]\n",
    "                if any(result['Tag Id'] == tag_id):\n",
    "                    return False\n",
    "            elif row[0] == 'Model' or row[0] == 'Test Step':\n",
    "                continue\n",
    "            elif row[0] == 'Test Date':\n",
    "                test_date = row[1]\n",
    "            else:\n",
    "                break            \n",
    "                \n",
    "    df = pd.read_csv(file_name, header=12, usecols=['Time','RateV_Y','TempV_Y'], float_precision='high')\n",
    "    \n",
    "    # Define parameters\n",
    "    Tmax = 85\n",
    "    Tmin = -40    \n",
    "    # Time starts from 0\n",
    "    df['Time'] = df['Time'] - df['Time'][0]\n",
    "    # Temps in V, max and min temps\n",
    "    tempsV = df['TempV_Y']\n",
    "    max_tempV = tempsV.max()\n",
    "    min_tempV = tempsV.min()\n",
    "    # Calculate temperature in Celsius\n",
    "    tmp_sf = (Tmax - Tmin) / (max_tempV - min_tempV)\n",
    "    tmp_bias = Tmax - (tmp_sf * max_tempV)\n",
    "    tempsC = tmp_bias + tmp_sf * tempsV\n",
    "    df['TempC'] = tempsC\n",
    "    \n",
    "    # Drop all values before and after the middle range 15-40C temperature values\n",
    "    n = len(df)\n",
    "    index_names = df[(df['TempC'] < 15) | (df['TempC'] > 40)].index\n",
    "    df.drop(index_names, inplace=True)\n",
    "    df.drop(range(index_names[-1]+1, n), inplace=True)\n",
    "    df.drop(range(index_names[0]), inplace=True)\n",
    "    df= df.reset_index(drop=True)\n",
    "    \n",
    "    # Find ambient point\n",
    "    # Select first measurement that is between 20-25 degrees C\n",
    "    amb_pt = None\n",
    "    for index, row in df.iterrows():\n",
    "        if 25 >= row['TempC'] and row['TempC'] >= 20:\n",
    "            amb_pt = index\n",
    "            break\n",
    "    if not amb_pt:\n",
    "        print(\"Error: Ambient Point not found\")\n",
    "        return None\n",
    "    \n",
    "    # Ambient Bias\n",
    "    amb_bias = df['RateV_Y'][amb_pt]\n",
    "\n",
    "    # Max and min deviation\n",
    "    max_rate = df['RateV_Y'].max()\n",
    "    min_rate = df['RateV_Y'].min()    \n",
    "    max_dev = max_rate - amb_bias\n",
    "    min_dev = min_rate - amb_bias\n",
    "    \n",
    "    # V -> mV\n",
    "    amb_bias = amb_bias * 1000\n",
    "    max_dev = max_dev * 1000\n",
    "    min_dev = min_dev * 1000\n",
    "\n",
    "    pk_pk = max_rate - min_rate\n",
    "    \n",
    "    # V -> mV\n",
    "    pk_pk = pk_pk * 1000\n",
    "    \n",
    "    # Find the coefficients for the line of best fit\n",
    "    m, b = np.polyfit(df['TempC'], df['RateV_Y'], 1)\n",
    "\n",
    "    # Find deviations from the line of best fit\n",
    "    df['Deviation'] = df['RateV_Y']-(m*df['TempC'] + b)\n",
    "    \n",
    "    # Max and min deviations from BFSL represent residual deviations after calibration\n",
    "    cal_max_dev = df['Deviation'].max()\n",
    "    cal_min_dev = df['Deviation'].min()\n",
    "\n",
    "    # V -> mV\n",
    "    cal_max_dev = cal_max_dev * 1000\n",
    "    cal_min_dev = cal_min_dev * 1000\n",
    "    \n",
    "    return { \n",
    "        'Tag Id': tag_id,\n",
    "        'Test Date': test_date,\n",
    "        'Ambient Bias mVdc': amb_bias,\n",
    "        'Max Deviation from Amb mVdc': max_dev,\n",
    "        'Min Deviation from Amb mVdc': min_dev,\n",
    "        'Pk-Pk mVdc': pk_pk,\n",
    "        'Max Deviation after Calibration': cal_max_dev,\n",
    "        'Min Deviation after Calibration': cal_min_dev,\n",
    "        'Meets -105 temp spec': (abs(max_dev) <= 2) & (abs(min_dev) <= 2),\n",
    "        'Meets -106 temp spec': (abs(max_dev) <= 0.5) & (abs(min_dev) <= 0.5),\n",
    "        '-105 Post-Calibration meets temp spec': (abs(cal_max_dev) <= 2) & (abs(cal_min_dev) <= 2),\n",
    "        '-106 Post-Calibration meets temp spec': (abs(cal_max_dev) <= 0.5) & (abs(cal_min_dev) <= 0.5)        \n",
    "    }\n"
   ]
  },
  {
   "cell_type": "code",
   "execution_count": 169,
   "id": "21184682",
   "metadata": {},
   "outputs": [],
   "source": [
    "# Test result dataframe schema\n",
    "d = {\n",
    "    'Tag Id':[],\n",
    "    'Test Date':[],\n",
    "    'Ambient Bias mVdc':[],\n",
    "    'Max Deviation from Amb mVdc':[],\n",
    "    'Min Deviation from Amb mVdc':[],\n",
    "    'Pk-Pk mVdc':[],\n",
    "    'Max Deviation after Calibration': [],\n",
    "    'Min Deviation after Calibration': [],\n",
    "    'Meets -105 temp spec': [],\n",
    "    'Meets -106 temp spec': [],\n",
    "    '-105 Post-Calibration meets temp spec': [],\n",
    "    '-106 Post-Calibration meets temp spec': []    \n",
    "}\n",
    "\n",
    "# Totals by month dataframe\n",
    "totals = pd.DataFrame(columns=[\n",
    "    'Month',\n",
    "    'Total',\n",
    "    '105 Count',\n",
    "    '106 Count',\n",
    "    '105 Yield',\n",
    "    '106 Yield',\n",
    "    '105 Count Calibrated',\n",
    "    '106 Count Calibrated',\n",
    "    '105 Yield Calibrated',\n",
    "    '106 Yield Calibrated'\n",
    "])\n",
    "\n",
    "# Initialize dataframe of all test results\n",
    "result = pd.DataFrame(data=d)"
   ]
  },
  {
   "cell_type": "markdown",
   "id": "f16607ea",
   "metadata": {},
   "source": [
    "Loop through each file, perform analytics, output to csv"
   ]
  },
  {
   "cell_type": "code",
   "execution_count": 182,
   "id": "458518d3",
   "metadata": {
    "scrolled": true
   },
   "outputs": [],
   "source": [
    "# Perform analysis month by month, simultaneously append test results to table for the year\n",
    "\n",
    "months = ['202107','202106','202105', '202104', '202103', '202102', '202101', '202012', '202011', '202010',\n",
    "          '202009', '202008', '202007', '202006', '202005', '202004', '202003', '202002', '202001']\n",
    "\n",
    "\n",
    "for month in months:\n",
    "    file_names = sorted(glob.glob(_path + \"/*-100_ZROTC_SDG500*_\" + month + \"*.csv\"), key = os.path.getmtime, reverse=True)\n",
    "    # Reset dataframe holding results for the month\n",
    "    month_result = pd.DataFrame(data=d)\n",
    "\n",
    "    # Loop through each file name\n",
    "    for file_name in file_names:\n",
    "        unit = analytics(file_name)\n",
    "        if unit:\n",
    "            month_result = month_result.append(unit, ignore_index=True)\n",
    "            # Append result to df of test results for year\n",
    "            result = result.append(unit, ignore_index=True)\n",
    "            \n",
    "    # Calculate totals for each month\n",
    "    \n",
    "    count_105 = month_result['Meets -105 temp spec'].sum()\n",
    "    count_106 = month_result['Meets -106 temp spec'].sum()\n",
    "    count_105_cal = month_result['-105 Post-Calibration meets temp spec'].sum()\n",
    "    count_106_cal = month_result['-106 Post-Calibration meets temp spec'].sum()\n",
    "    \n",
    "    total = len(month_result)\n",
    "    \n",
    "    yield_105 = count_105/total\n",
    "    yield_106 = count_106/total\n",
    "    yield_105_cal = count_105_cal/total\n",
    "    yield_106_cal = count_106_cal/total\n",
    "    \n",
    "    month_data = {\n",
    "        'Month': month,\n",
    "        'Total': total,\n",
    "        '105 Count': count_105,\n",
    "        '106 Count': count_106,\n",
    "        '105 Yield': yield_105*100,\n",
    "        '106 Yield': yield_106*100,\n",
    "        '105 Count Calibrated': count_105_cal,\n",
    "        '106 Count Calibrated': count_106_cal,\n",
    "        '105 Yield Calibrated': yield_105_cal*100,\n",
    "        '106 Yield Calibrated': yield_106_cal*100,\n",
    "    }\n",
    "    \n",
    "    totals = totals.append(month_data, ignore_index=True)\n",
    "\n",
    "# totals.to_csv(\"By_Month_SDG500-00100_Ambient_Temperature_Test_Results.csv\")    "
   ]
  },
  {
   "cell_type": "code",
   "execution_count": 183,
   "id": "295c447c",
   "metadata": {},
   "outputs": [
    {
     "name": "stdout",
     "output_type": "stream",
     "text": [
      "596.0\n"
     ]
    }
   ],
   "source": [
    "count_105 = result['Meets -105 temp spec'].sum()\n",
    "count_106 = result['Meets -106 temp spec'].sum()\n",
    "count_105_cal = result['-105 Post-Calibration meets temp spec'].sum()\n",
    "count_106_cal = result['-106 Post-Calibration meets temp spec'].sum()\n",
    "\n",
    "print(count_105)"
   ]
  },
  {
   "cell_type": "code",
   "execution_count": 184,
   "id": "cb9854cc",
   "metadata": {},
   "outputs": [
    {
     "name": "stdout",
     "output_type": "stream",
     "text": [
      "169.0\n"
     ]
    }
   ],
   "source": [
    "print(count_106)"
   ]
  },
  {
   "cell_type": "code",
   "execution_count": 185,
   "id": "96550dde",
   "metadata": {},
   "outputs": [
    {
     "name": "stdout",
     "output_type": "stream",
     "text": [
      "1945.0\n"
     ]
    }
   ],
   "source": [
    "print(count_105_cal)"
   ]
  },
  {
   "cell_type": "code",
   "execution_count": 186,
   "id": "dc7773a7",
   "metadata": {},
   "outputs": [
    {
     "name": "stdout",
     "output_type": "stream",
     "text": [
      "1905.0\n"
     ]
    }
   ],
   "source": [
    "print(count_106_cal)"
   ]
  },
  {
   "cell_type": "code",
   "execution_count": 187,
   "id": "69235656",
   "metadata": {},
   "outputs": [
    {
     "name": "stdout",
     "output_type": "stream",
     "text": [
      "1948\n"
     ]
    }
   ],
   "source": [
    "total = len(result)\n",
    "print(total)"
   ]
  },
  {
   "cell_type": "code",
   "execution_count": 176,
   "id": "b64e97c3",
   "metadata": {},
   "outputs": [
    {
     "name": "stdout",
     "output_type": "stream",
     "text": [
      "0.30167890870933894\n"
     ]
    }
   ],
   "source": [
    "# Yields\n",
    "yield_105 = count_105/total\n",
    "yield_106 = count_106/total\n",
    "yield_105_cal = count_105_cal/total\n",
    "yield_106_cal = count_106_cal/total\n",
    "\n",
    "print(yield_105)"
   ]
  },
  {
   "cell_type": "code",
   "execution_count": 177,
   "id": "3d868297",
   "metadata": {},
   "outputs": [
    {
     "name": "stdout",
     "output_type": "stream",
     "text": [
      "0.0844700944386149\n"
     ]
    }
   ],
   "source": [
    "print(yield_106)"
   ]
  },
  {
   "cell_type": "code",
   "execution_count": 178,
   "id": "ad2a7c79",
   "metadata": {},
   "outputs": [
    {
     "name": "stdout",
     "output_type": "stream",
     "text": [
      "0.9984260230849947\n"
     ]
    }
   ],
   "source": [
    "print(yield_105_cal)"
   ]
  },
  {
   "cell_type": "code",
   "execution_count": 179,
   "id": "7df493d4",
   "metadata": {},
   "outputs": [
    {
     "name": "stdout",
     "output_type": "stream",
     "text": [
      "0.9774396642182581\n"
     ]
    }
   ],
   "source": [
    "print(yield_106_cal)"
   ]
  },
  {
   "cell_type": "code",
   "execution_count": 180,
   "id": "ad15aa8c",
   "metadata": {},
   "outputs": [],
   "source": [
    "# Output results to a csv\n",
    "totals.to_csv(\"Monthly_Totals_SDG500-00100_2020-2021_Ambient_Temperature_Test_Results.csv\")\n",
    "result.to_csv(\"Year_SDG500-00100_2020-2021_Ambient_Temperature_Test_Results.csv\")"
   ]
  },
  {
   "cell_type": "code",
   "execution_count": 181,
   "id": "5647fc7b",
   "metadata": {},
   "outputs": [
    {
     "name": "stdout",
     "output_type": "stream",
     "text": [
      "     Tag Id               Test Date  Ambient Bias mVdc  \\\n",
      "0     J8300  06/30/2021 08:12:25 PM          11.094200   \n",
      "1     J8283  06/30/2021 09:23:10 AM           8.805082   \n",
      "2     J8312  06/30/2021 09:23:10 AM          -0.929563   \n",
      "3     J8314  06/30/2021 09:23:10 AM           4.525005   \n",
      "4     J8315  06/29/2021 08:37:53 AM           5.048823   \n",
      "...     ...                     ...                ...   \n",
      "1901  J3259  01/02/2020 08:00:28 PM           3.991447   \n",
      "1902  J3163  01/02/2020 08:00:28 PM           2.966646   \n",
      "1903  J2991  01/02/2020 07:20:05 PM          -1.606977   \n",
      "1904  J3188  01/02/2020 07:20:05 PM          -0.346269   \n",
      "1905  J3260  01/02/2020 07:20:05 PM           0.354280   \n",
      "\n",
      "      Max Deviation from Amb mVdc  Min Deviation from Amb mVdc  Pk-Pk mVdc  \\\n",
      "0                        0.554490                    -2.273658    2.828148   \n",
      "1                        1.094112                    -5.139330    6.233442   \n",
      "2                       23.005573                    -5.993167   28.998740   \n",
      "3                        1.709929                    -7.861096    9.571025   \n",
      "4                        8.941297                    -2.124205   11.065502   \n",
      "...                           ...                          ...         ...   \n",
      "1901                     5.823783                    -1.634093    7.457876   \n",
      "1902                     0.193342                    -1.366600    1.559942   \n",
      "1903                     6.268632                    -1.495073    7.763705   \n",
      "1904                    10.074528                    -2.102373   12.176901   \n",
      "1905                     0.059554                    -1.112793    1.172347   \n",
      "\n",
      "      Max Deviation after Calibration  Min Deviation after Calibration  \\\n",
      "0                            0.072623                        -0.119052   \n",
      "1                            0.230550                        -0.233510   \n",
      "2                            0.127537                        -0.176126   \n",
      "3                            0.205196                        -0.301157   \n",
      "4                            0.163859                        -0.104819   \n",
      "...                               ...                              ...   \n",
      "1901                         0.100846                        -0.145044   \n",
      "1902                         0.128428                        -0.179077   \n",
      "1903                         0.069777                        -0.051742   \n",
      "1904                         0.291967                        -0.288185   \n",
      "1905                         0.212077                        -0.315365   \n",
      "\n",
      "      Meets -105 temp spec  Meets -106 temp spec  \\\n",
      "0                      0.0                   0.0   \n",
      "1                      0.0                   0.0   \n",
      "2                      0.0                   0.0   \n",
      "3                      0.0                   0.0   \n",
      "4                      0.0                   0.0   \n",
      "...                    ...                   ...   \n",
      "1901                   0.0                   0.0   \n",
      "1902                   1.0                   0.0   \n",
      "1903                   0.0                   0.0   \n",
      "1904                   0.0                   0.0   \n",
      "1905                   1.0                   0.0   \n",
      "\n",
      "      -105 Post-Calibration meets temp spec  \\\n",
      "0                                       1.0   \n",
      "1                                       1.0   \n",
      "2                                       1.0   \n",
      "3                                       1.0   \n",
      "4                                       1.0   \n",
      "...                                     ...   \n",
      "1901                                    1.0   \n",
      "1902                                    1.0   \n",
      "1903                                    1.0   \n",
      "1904                                    1.0   \n",
      "1905                                    1.0   \n",
      "\n",
      "      -106 Post-Calibration meets temp spec  \n",
      "0                                       1.0  \n",
      "1                                       1.0  \n",
      "2                                       1.0  \n",
      "3                                       1.0  \n",
      "4                                       1.0  \n",
      "...                                     ...  \n",
      "1901                                    1.0  \n",
      "1902                                    1.0  \n",
      "1903                                    1.0  \n",
      "1904                                    1.0  \n",
      "1905                                    1.0  \n",
      "\n",
      "[1906 rows x 12 columns]\n"
     ]
    }
   ],
   "source": [
    "print(result)"
   ]
  }
 ],
 "metadata": {
  "kernelspec": {
   "display_name": "Python 3",
   "language": "python",
   "name": "python3"
  },
  "language_info": {
   "codemirror_mode": {
    "name": "ipython",
    "version": 3
   },
   "file_extension": ".py",
   "mimetype": "text/x-python",
   "name": "python",
   "nbconvert_exporter": "python",
   "pygments_lexer": "ipython3",
   "version": "3.6.8"
  }
 },
 "nbformat": 4,
 "nbformat_minor": 5
}
